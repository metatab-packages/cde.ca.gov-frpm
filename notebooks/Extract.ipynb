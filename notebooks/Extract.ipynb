{
 "cells": [
  {
   "cell_type": "code",
   "execution_count": 1,
   "metadata": {},
   "outputs": [],
   "source": [
    "import seaborn as sns\n",
    "import metapack as mp\n",
    "import pandas as pd\n",
    "import numpy as np\n",
    "import matplotlib.pyplot as plt\n",
    "from IPython.display import display \n",
    "\n",
    "%matplotlib inline\n",
    "\n",
    "sns.set_context('notebook')\n",
    "mp.jupyter.init()\n"
   ]
  },
  {
   "cell_type": "code",
   "execution_count": 2,
   "metadata": {},
   "outputs": [
    {
     "data": {
      "text/html": [
       "<h1>Student Poverty FRPM Data</h1>\n",
       "<p><code>cde.ca.gov-frpm-1.2.1</code> Last Update: 2021-03-09T23:53:10</p>\n",
       "<p><em>Data files pertaining to students eligible for Free or Reduced Price Meals (FRPM).</em></p>\n",
       "<h2>Documentation Links</h2>\n",
       "<ul>\n",
       "<li><a href=\"https://www.cde.ca.gov/ds/sd/sd/filessp.asp\">Homepage</a> Dataset home page</li>\n",
       "</ul>\n",
       "<h2>Contacts</h2>\n",
       "<ul>\n",
       "<li><strong>Wrangler</strong> <a href=\"mailto:eric@civicknowledge.com\">Eric Busboom</a>, <a href=\"http://civicknowledge.com\">Civic Knowledge</a></li>\n",
       "</ul>\n",
       "<h2>Resources</h2>\n",
       "<ul>\n",
       "<li><strong> <a href=\"notebooks/Extract.ipynb#df\">frp_meals</a></strong>. Combined data, 2004 to 2018</li>\n",
       "</ul>\n",
       "<h2>References</h2>\n",
       "<p><ul><li> <strong>frpm_source</string>, <em>index:cde.ca.gov-frpm-source</em>. </li><li> <strong>colmap</string>, <em>data/column-map.csv</em>. </li><ul></p>"
      ],
      "text/plain": [
       "# Student Poverty FRPM Data\n",
       "`cde.ca.gov-frpm-1.2.1` Last Update: 2021-03-09T23:53:10\n",
       "\n",
       "_Data files pertaining to students eligible for Free or Reduced Price Meals (FRPM)._\n",
       "\n",
       "\n",
       "## Documentation Links\n",
       "\n",
       "* [Homepage](https://www.cde.ca.gov/ds/sd/sd/filessp.asp) Dataset home page\n",
       "\n",
       " \n",
       "\n",
       "## Contacts\n",
       "\n",
       "* **Wrangler** [Eric Busboom](mailto:eric@civicknowledge.com), [Civic Knowledge](http://civicknowledge.com)\n",
       "\n",
       "## Resources\n",
       "\n",
       "* ** [frp_meals](notebooks/Extract.ipynb#df)**. Combined data, 2004 to 2018\n",
       "\n",
       "## References\n",
       "<ul><li> <strong>frpm_source</string>, <em>index:cde.ca.gov-frpm-source</em>. </li><li> <strong>colmap</string>, <em>data/column-map.csv</em>. </li><ul>\n"
      ]
     },
     "execution_count": 2,
     "metadata": {},
     "output_type": "execute_result"
    }
   ],
   "source": [
    "#pkg = mp.jupyter.open_package()\n",
    "pkg = mp.jupyter.open_source_package()\n",
    "pkg"
   ]
  },
  {
   "cell_type": "code",
   "execution_count": 3,
   "metadata": {},
   "outputs": [],
   "source": [
    "from itertools import islice\n",
    "\n",
    "# Load the coumn map\n",
    "full_cm = pkg.reference('colmap').dataframe()\n",
    "\n",
    "def get_cm(col):\n",
    "    return {r[col]:r['index'] for idx, r in full_cm[['index',col]].dropna().iterrows()}\n",
    "\n",
    "\n",
    "frames = []\n",
    "\n",
    "# Just translate all of the colum names after loading the\n",
    "# individual dataframes\n",
    "for r in pkg.reference('frpm_source').package.resources():\n",
    " \n",
    "    frames.append(r.dataframe().rename(columns=get_cm(r.name)))\n",
    "    \n",
    "df = pd.concat(frames)\n",
    "\n",
    "    "
   ]
  },
  {
   "cell_type": "code",
   "execution_count": 11,
   "metadata": {},
   "outputs": [],
   "source": [
    "# Convince Pandas to re-assess all of the datatypes. \n",
    "df = pd.DataFrame(df.to_dict())"
   ]
  },
  {
   "cell_type": "code",
   "execution_count": 26,
   "metadata": {},
   "outputs": [],
   "source": [
    "\n",
    "# Transfer Columns Types\n",
    "# Copy values from an earlier schema\n",
    "if False:\n",
    "    p = mp.open_package(pkg.ref)\n",
    "    s1 = p.find_first('Root.Table', value='combined')\n",
    "    s2 = p.find_first('Root.Table', value='frp_meals') \n",
    "\n",
    "    ss = {}\n",
    "    for c in  s1.children:\n",
    "        if c.term_is(\"Table.Column\"):\n",
    "            ss[c.value] =  c.all_props\n",
    "\n",
    "    columns = []\n",
    "\n",
    "\n",
    "    for c in  s2.children:\n",
    "        if c.term_is(\"Table.Column\"):\n",
    "            src = ss.get(c.value)\n",
    "            if src:\n",
    "                if c.datatype == 'unknown':\n",
    "                    c['datatype'] = src['datatype']\n",
    "\n",
    "                if not c.description:\n",
    "                    c['description'] = src['description']\n",
    "\n",
    "    p.write()\n",
    "        "
   ]
  },
  {
   "cell_type": "code",
   "execution_count": 15,
   "metadata": {},
   "outputs": [],
   "source": []
  },
  {
   "cell_type": "code",
   "execution_count": 18,
   "metadata": {},
   "outputs": [],
   "source": []
  },
  {
   "cell_type": "code",
   "execution_count": 28,
   "metadata": {},
   "outputs": [],
   "source": []
  },
  {
   "cell_type": "code",
   "execution_count": null,
   "metadata": {},
   "outputs": [],
   "source": []
  }
 ],
 "metadata": {
  "kernelspec": {
   "display_name": "Python 3",
   "language": "python",
   "name": "python3"
  },
  "language_info": {
   "codemirror_mode": {
    "name": "ipython",
    "version": 3
   },
   "file_extension": ".py",
   "mimetype": "text/x-python",
   "name": "python",
   "nbconvert_exporter": "python",
   "pygments_lexer": "ipython3",
   "version": "3.7.6"
  }
 },
 "nbformat": 4,
 "nbformat_minor": 4
}
